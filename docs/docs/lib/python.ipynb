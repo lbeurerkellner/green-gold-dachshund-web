{
 "cells": [
  {
   "cell_type": "markdown",
   "metadata": {},
   "source": [
    "---\n",
    "outline: [2,3]\n",
    "---"
   ]
  },
  {
   "cell_type": "markdown",
   "metadata": {},
   "source": [
    "# Python Integration\n",
    "\n",
    "<div class=\"subtitle\">Use LMQL from Python.</div>\n",
    "\n",
    "The primary way to use LMQL from your existing application is the `lmql` Python package. \n",
    "\n",
    "The `lmql` package offers a number of functions that allow you to define and run LMQL programs, directly from within Python."
   ]
  },
  {
   "cell_type": "markdown",
   "metadata": {},
   "source": [
    "## Query Functions\n",
    "\n",
    "In Python, a piece of LMQL code is represented as a standard Python function. This means, you can define, parameterize and call LMQL code, directly from within your existing Python application. \n",
    "\n",
    "To enable this, LMQL offers three entry points:\n",
    "\n",
    "* An `@lmql.query` decorator, to define LMQL query functions using standard `def` syntax, including support for capturing and accessing the surrounding Python scope.\n",
    "\n",
    "* An `lmql.run` function, to directly run a string of LMQL code as a query, without having to define a function first.\n",
    "\n",
    "\n",
    "* `lmql.F(...)` to evaluate pieces of LMQL code as pure lambda expressions, very similar to Python's `lambda` keyword."
   ]
  },
  {
   "cell_type": "markdown",
   "metadata": {},
   "source": [
    "All three methods internally construct an LMQL query function for the provided code. This chapter first discusses, how to define and run query functions using `lmql.query`, `lmql.run` and `lmql.F`, and then provides information on the [query result format](#query-results) and how to [configure queries](#query-configuration), e.g. to specify model, decoder and other parameters."
   ]
  },
  {
   "cell_type": "code",
   "execution_count": 1,
   "metadata": {},
   "outputs": [],
   "source": [
    "#notebooks.js:hidden\n",
    "# setup lmql path\n",
    "import sys \n",
    "sys.path.append(\"../../../src/\")\n",
    "\n",
    "%load_ext autoreload\n",
    "%autoreload 2\n",
    "\n",
    "# disable logit bias logging\n",
    "import lmql.runtime.bopenai.batched_openai as batched_openai\n",
    "batched_openai.set_logit_bias_logging(False)\n",
    "\n",
    "import lmql"
   ]
  },
  {
   "cell_type": "code",
   "execution_count": 2,
   "metadata": {},
   "outputs": [],
   "source": [
    "#notebooks.js:hidden\n",
    "# required for jupyter notebook\n",
    "import nest_asyncio\n",
    "nest_asyncio.apply()"
   ]
  },
  {
   "cell_type": "markdown",
   "metadata": {},
   "source": [
    "### `lmql.query`\n",
    "\n",
    "The `@lmql.query` decorator allows you to directly expose a piece of LMQL code as a Python function, and call it from your existing code:"
   ]
  },
  {
   "cell_type": "code",
   "execution_count": 6,
   "metadata": {},
   "outputs": [
    {
     "name": "stdout",
     "output_type": "stream",
     "text": [
      " 5th of June.\n"
     ]
    }
   ],
   "source": [
    "@lmql.query\n",
    "def chain_of_thought(question):\n",
    "    '''lmql\n",
    "    # Q&A prompt template\n",
    "    \"Q: {question}\\n\"\n",
    "    \"A: Let's think step by step.\\n\"\n",
    "    \"[REASONING]\"\n",
    "    \"Thus, the answer is:[ANSWER].\"\n",
    "\n",
    "    # return just the ANSWER to the caller\n",
    "    return ANSWER\n",
    "    '''\n",
    "\n",
    "print(chain_of_thought('Today is the 12th of June, what day was it 1 week ago?'))"
   ]
  },
  {
   "cell_type": "markdown",
   "metadata": {},
   "source": [
    "Note that the actual LMQL program is defined in the docstring of the function, allowing LMQL code to embed seamlessly.\n",
    "\n",
    "Function arguments can be passed freely into the LMQL, and the return value of the function is passed back to the caller.\n",
    "\n",
    "Variables from the surrounding context can also be captured by the query program, enabling access to the full power of Python from within LMQL.\n",
    "\n",
    "\n",
    "::: info Jupyter Notebooks\n",
    "You may encounter problems with the `@lmql.query` decorator in a Jupyter Notebook, because notebook environments are asynchronous, by default. To work around this, you can declare your query functions as `async` and use the `await` keyword when calling them.\n",
    "\n",
    "Alternatively, you can install the [`nest_asyncio`](https://pypi.org/project/nest-asyncio/) package and call `nest_asyncio.apply()`, to enable nested event loops in your notebook.\n",
    ":::\n",
    "\n",
    "#### Variable Capturing\n",
    "\n",
    "The `@lmql.query` decorator also allows you to access variables from the surrounding context, and make them available to the query program. This is done automatically by capturing the function's closure at definition time:"
   ]
  },
  {
   "cell_type": "code",
   "execution_count": 25,
   "metadata": {},
   "outputs": [
    {
     "name": "stdout",
     "output_type": "stream",
     "text": [
      "\n",
      "\n",
      "[NUMBER] is the smallest number with exactly six divisors ([NUMBER], [NUMBER], [NUMBER], [NUMBER], [NUMBER], [NUMBER]).\n"
     ]
    }
   ],
   "source": [
    "import re\n",
    "\n",
    "a = 12\n",
    "\n",
    "@lmql.query\n",
    "def query():\n",
    "    '''lmql\n",
    "    # access 'a' from the global namespace\n",
    "    \"Tell me a fun fact about {a}: [FACT]\"\n",
    "    # use imported 're' module\n",
    "    return re.sub(r'\\d+', '[NUMBER]', FACT)\n",
    "    '''\n",
    "\n",
    "print(query())"
   ]
  },
  {
   "cell_type": "markdown",
   "metadata": {},
   "source": [
    "As shown, within an `@lmql.query` function we have full access to the surrounding context, including any variables and imports defined in the outer scope. This allows for flexible integration of LMQL into your existing codebase."
   ]
  },
  {
   "cell_type": "markdown",
   "metadata": {},
   "source": [
    "### `lmql.run`"
   ]
  },
  {
   "cell_type": "markdown",
   "metadata": {},
   "source": [
    "To run a string of LMQL code directly, without having to define a function first, you can use the `lmql.run` function:"
   ]
  },
  {
   "cell_type": "code",
   "execution_count": 34,
   "metadata": {},
   "outputs": [
    {
     "data": {
      "text/plain": [
       "LMQLResult(prompt=\"Q: What is 2x3?\\nA: Let's think step by step.\\n2x3 can be written as 2+2+2 or 3+3.\\nSo, 2x3 is equal to 6.\", variables={'ANSWER': '2x3 can be written as 2+2+2 or 3+3.\\nSo, 2x3 is equal to 6.'}, distribution_variable=None, distribution_values=None)"
      ]
     },
     "execution_count": 34,
     "metadata": {},
     "output_type": "execute_result"
    }
   ],
   "source": [
    "#notebooks.js:show_result=false\n",
    "\n",
    "query_string = \"\"\"\n",
    "    \"Q: {question}\\\\n\"\n",
    "    \"A: Let's think step by step.\\\\n\"\n",
    "    \"[ANSWER]\"\n",
    "\"\"\"\n",
    "\n",
    "await lmql.run(query_string, question=\"What is 2x3?\")"
   ]
  },
  {
   "cell_type": "markdown",
   "metadata": {},
   "source": [
    "Note that with `lmql.run`, newline characters `\\n` has to be a escaped as `\\\\n` in the query string, to avoid syntax errors.\n",
    "\n",
    "To run synchronously, without `await`, you can use the `lmql.run_sync` function instead.\n",
    "\n",
    "\n",
    "::: tip Escaping LMQL-specific Control Characters\n",
    "\n",
    "When constructing queries from strings directly, always make sure to [escape LMQL-specific control characters correctly](../language/scripted-prompting.md#escaping), to avoid syntax errors in the resulting query program.\n",
    "\n",
    ":::"
   ]
  },
  {
   "cell_type": "markdown",
   "metadata": {},
   "source": [
    "#### Precompiling Queries\n",
    "\n",
    "When using `lmql.run`, the query string will be compiled into a query function on every call. To avoid this, you can use the `lmql.query` function with a string, to create a function that will be compiled only once and can then be called multiple times:"
   ]
  },
  {
   "cell_type": "code",
   "execution_count": 36,
   "metadata": {},
   "outputs": [
    {
     "data": {
      "text/plain": [
       "LMQLResult(prompt=\"Q: What is 2x3?\\nA: Let's think step by step.\\n2x3 can be written as 2+2+2 or 3+3.\\nSo, 2x3 is equal to 6.\", variables={'ANSWER': '2x3 can be written as 2+2+2 or 3+3.\\nSo, 2x3 is equal to 6.'}, distribution_variable=None, distribution_values=None)"
      ]
     },
     "execution_count": 36,
     "metadata": {},
     "output_type": "execute_result"
    }
   ],
   "source": [
    "#notebooks.js:show_result=false\n",
    "chain_of_thought = lmql.query(\"\"\"\n",
    "    \"Q: {question}\\\\n\"\n",
    "    \"A: Let's think step by step.\\\\n\"\n",
    "    \"[ANSWER]\"\n",
    "\"\"\", is_async=False)\n",
    "\n",
    "chain_of_thought(\"What is 2x3?\")"
   ]
  },
  {
   "cell_type": "markdown",
   "metadata": {},
   "source": [
    "Here, setting `is_async=False` ensures that the query can be executed synchronously.\n"
   ]
  },
  {
   "cell_type": "markdown",
   "metadata": {},
   "source": [
    "### `lmql.F`\n",
    "\n",
    "Lastly, `lmql.F` offers a lightweight way to evaluate pieces of LMQL code as simple lambda expressions, very similar to Python's `lambda` keyword. \n",
    "\n",
    "This offers a lightweight entryway to get started with integrating small LLM-based utilities in your code, without having to write a full LMQL program:"
   ]
  },
  {
   "cell_type": "code",
   "execution_count": 57,
   "metadata": {},
   "outputs": [
    {
     "data": {
      "text/plain": [
       "'\\n\\nLMQL improves natural language prompting with Python and fixed answer templates for language models.'"
      ]
     },
     "execution_count": 57,
     "metadata": {},
     "output_type": "execute_result"
    }
   ],
   "source": [
    "#notebooks.js:show_result=false\n",
    "summarize = lmql.F(\"Summarize the following in a \\\n",
    "                   few words: {data}: [SUMMARY]\")\n",
    "\n",
    "main_subject = lmql.F(\"What is the main subject (noun) \\\n",
    "                       of the following text? {data}: [SUBJECT]\", \n",
    "                      \"len(TOKENS(SUBJECT)) < 20\")\n",
    "\n",
    "text = \"LMQL generalizes natural language prompting, ...\"\n",
    "\n",
    "summarize(data=text) # LMQL improves natural language prompting with \n",
    "# Python and fixed answer templates for better control over LLMs.\n",
    "\n",
    "main_subject(data=text) # LMQL\n"
   ]
  },
  {
   "cell_type": "markdown",
   "metadata": {},
   "source": [
    "Syntactically, an `lmql.F` expressions corresponds to a single [LMQL prompt statement](../language/scripted-prompting.md), without the `\"` quotes. The `lmql.F` function returns a callable object, which can be used like a regular query function.\n",
    "\n",
    "**Return Value** If the `lmql.F` contains only one placeholder variable, its generated value will be used as the return value of the function. Otherwise, a dictionary of all placeholder values will be returned.\n",
    "\n",
    "**Constraints** To specify constraints in an `lmql.F` expression, you can pass a `constraints=...` string argument, which will be parsed and enforced like a `where` clause in a regular LMQL prompt statement.\n"
   ]
  },
  {
   "cell_type": "markdown",
   "metadata": {},
   "source": [
    "## Query Results\n",
    "\n",
    "In general, the result of query function is determined the use of `return` statements and the decoding algorithm used to execute the query:\n",
    "\n",
    "### Query Functions With `return` statements\n",
    "\n",
    "Query functions with `return` statements will return the value of the `return` statement. If a decoding algorithm with multiple output sequences is used (e.g. `sample(n=2)`), the return value will be a list of all `return` values."
   ]
  },
  {
   "cell_type": "code",
   "execution_count": 5,
   "metadata": {},
   "outputs": [
    {
     "data": {
      "text/plain": [
       "[1, 25]"
      ]
     },
     "execution_count": 5,
     "metadata": {},
     "output_type": "execute_result"
    }
   ],
   "source": [
    "number = lmql.F(\"A random number: [JOKE: int]\")\n",
    "\n",
    "# sample two results\n",
    "number(decoder=\"sample\", n=2)"
   ]
  },
  {
   "cell_type": "markdown",
   "metadata": {},
   "source": [
    "### Query Functions Without `return` statements\n",
    "\n",
    "If no `return` statement is specified, the return value of the query function is a designated `lmql.LMQLResult` object, which contains the last assigned value of all variables defined in the query program:\n",
    "\n",
    "```python\n",
    "class LMQLResult:\n",
    "    # full prompt with all variables substituted\n",
    "    prompt: str\n",
    "    # a dictionary of all assigned template variable values\n",
    "    variables: Dict[str, str]\n",
    "```"
   ]
  },
  {
   "cell_type": "markdown",
   "metadata": {},
   "source": [
    "This allows to inspect the full query prompt, as well as individual variable values, after query execution:"
   ]
  },
  {
   "cell_type": "code",
   "execution_count": 6,
   "metadata": {},
   "outputs": [
    {
     "data": {
      "text/plain": [
       "LMQLResult(prompt='Q: Tell me a joke about plants\\nA: Why did the tomato turn red?\\n\\nBecause it saw the salad dressing!', variables={'JOKE': 'Why did the tomato turn red?\\n\\nBecause it saw the salad dressing!'}, distribution_variable=None, distribution_values=None)"
      ]
     },
     "execution_count": 6,
     "metadata": {},
     "output_type": "execute_result"
    }
   ],
   "source": [
    "joke = lmql.query(\"\"\"\n",
    "    \"Q: Tell me a joke about plants\\\\n\"\n",
    "    \"A: [JOKE]\"               \n",
    "\"\"\", is_async=False)\n",
    "\n",
    "joke()"
   ]
  },
  {
   "cell_type": "markdown",
   "metadata": {},
   "source": [
    "If a decoding algorithm with multiple output sequences is used (e.g. `sample(n=2)`), the return value will be a list of all such `LMQLResult` objects."
   ]
  },
  {
   "cell_type": "markdown",
   "metadata": {},
   "source": [
    "## Query Configuration\n",
    "\n",
    "To further control query execution (e.g. set the model, decoder, etc.), you can provide additional configuration parameters to any `lmql.query`, `lmql.run` or `lmql.F` call:\n",
    "\n",
    "```python\n",
    "@lmql.query(model=lmql.model(\"chatgpt\"), decoder=\"argmax\")\n",
    "def chain_of_thought(question):\n",
    "    ...\n",
    "```\n",
    "\n",
    "For this, the following arguments are supported:\n",
    "\n",
    "* `model=<MODEL>` - The model to use for the query. This overrides the model specified in the query program. You can pass a model identifier or an [`lmql.model`](../../guide/models/index.md#loading-models) object.\n",
    "* `decoder=<DECODER>` - The decoder to use for the query. This overrides any decoder specified by the query program. You can pass a any supported [decoder identifier](../../guide/language/decoding.md).\n",
    "* `output_writer=<OUTPUT_WRITER>` - The output writer to use for streaming query progress during execution, see [Output Streaming](./output.md) for details. Defaults to `None`.\n",
    "* `verbose=<True|False>` - Whether to print verbose logging output during query execution (API requests, LLM inference parameters, etc.). Defaults to `False`.\n",
    "* `certificate=<True|False>` - Whether to produce an [inference certificate](../../guide/lib/inference-certificates.md) for the execution of a query. Defaults to `False`.\n",
    "\n",
    "* `**kwargs` - Any extra keyword arguments are passed to the [decoding algorithm](../../guide/language/decoding.md). See [other decoding parameters](../../guide/language/decoding.md#other-decoding-parameters) for more details on the available parameters.\n",
    "\n",
    "**Overriding Defaults** To override these configuration parameters at call time, you can also pass them as additional keyword arguments to the query function call:\n",
    "\n",
    "```python\n",
    "# executes 'chain_of_thought' with the 'gpt2-xl' model\n",
    "chain_of_thought(\"What is the meaning of life?\", \n",
    "                 model=\"gpt2-xl\", temperature=0.5)\n",
    "```"
   ]
  },
  {
   "cell_type": "markdown",
   "metadata": {},
   "source": [
    "The result object is a dataclass with the following fields:\n",
    "\n",
    "```python\n",
    "class LMQLResult:\n",
    "    # full prompt with all variables substituted\n",
    "    prompt: str\n",
    "    # a dictionary of all assigned template variable values\n",
    "    variables: Dict[str, str]\n",
    "```"
   ]
  },
  {
   "cell_type": "code",
   "execution_count": null,
   "metadata": {},
   "outputs": [],
   "source": []
  }
 ],
 "metadata": {
  "kernelspec": {
   "display_name": "lmql",
   "language": "python",
   "name": "python3"
  },
  "language_info": {
   "codemirror_mode": {
    "name": "ipython",
    "version": 3
   },
   "file_extension": ".py",
   "mimetype": "text/x-python",
   "name": "python",
   "nbconvert_exporter": "python",
   "pygments_lexer": "ipython3",
   "version": "3.10.10"
  }
 },
 "nbformat": 4,
 "nbformat_minor": 2
}
